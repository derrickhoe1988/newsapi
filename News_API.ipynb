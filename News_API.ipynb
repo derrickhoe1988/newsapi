{
  "nbformat": 4,
  "nbformat_minor": 0,
  "metadata": {
    "colab": {
      "name": "News API ",
      "provenance": []
    },
    "kernelspec": {
      "name": "python3",
      "display_name": "Python 3"
    }
  },
  "cells": [
    {
      "cell_type": "markdown",
      "metadata": {
        "id": "3oSeZJnxGSZi",
        "colab_type": "text"
      },
      "source": [
        "**NEWSAPI**"
      ]
    },
    {
      "cell_type": "markdown",
      "metadata": {
        "id": "WtXDRMi_AfGE",
        "colab_type": "text"
      },
      "source": [
        "Documentation\n",
        "News API is a simple HTTP REST API for searching and retrieving live articles from all over the web. It can help you answer questions like:\n",
        "\n",
        "Endpoints\n",
        "\n",
        "News API has 2 main endpoints:\n",
        "\n",
        "*  **Top headlines /v2/top-headlines** - returns breaking news headlines for a country and category, or currently running on a single or multiple sources. This is perfect for use with news tickers or anywhere you want to display live up-to-date news headlines and images.\n",
        "\n",
        "*  **Everything /v2/everything** - we index every recent news and blog article published by over 50,000 different sources large and small, and you can search through them with this endpoint. This endpoint is better suited for news analysis and article discovery, but can be used to retrieve articles for display too.\n",
        "\n",
        "We also have a minor endpoint that can be used to retrieve a small subset of the publishers we index from:\n",
        "\n",
        "*   **Sources /v2/sources** - returns information (including name, description, and \n",
        "category) about the most notable sources we index. This list could be piped directly through to your users when showing them some of the options available.\n",
        "\n",
        "You need an API key to use the API - this is a unique key that identifies your requests. \n"
      ]
    },
    {
      "cell_type": "code",
      "metadata": {
        "id": "7R3hpP5UGY02",
        "colab_type": "code",
        "colab": {}
      },
      "source": [
        "import requests\n",
        "import pandas as pd"
      ],
      "execution_count": 0,
      "outputs": []
    },
    {
      "cell_type": "markdown",
      "metadata": {
        "id": "uqhUEWhKD1wa",
        "colab_type": "text"
      },
      "source": [
        "# NEWSAPI is also able to provide headlines according to keywords\n"
      ]
    },
    {
      "cell_type": "markdown",
      "metadata": {
        "id": "C8ebiOqQVAG5",
        "colab_type": "text"
      },
      "source": [
        "# **Everything /v2/everything**\n",
        "\n",
        "Search through millions of articles from over 50,000 large and small news sources and blogs. This includes breaking news as well as lesser articles.\n",
        "\n",
        "This endpoint suits article discovery and analysis, but can be used to retrieve articles for display, too."
      ]
    },
    {
      "cell_type": "markdown",
      "metadata": {
        "id": "ZCK_fAaCKTnG",
        "colab_type": "text"
      },
      "source": [
        "Assuming if we want to find any news article with keyword \"SAMSUNG\"."
      ]
    },
    {
      "cell_type": "code",
      "metadata": {
        "id": "pVwd5UdOAisl",
        "colab_type": "code",
        "colab": {}
      },
      "source": [
        "#we create URL for samsung for date 30 May 2020 sort by popularity\n",
        "url = ('http://newsapi.org/v2/everything?' #search everything\n",
        "       'q=samsung&' \n",
        "       #q - Keywords or phrases to search for keyword in the article title and body. \n",
        "       #qInTitle - request to Keywords or phrases to search for keyword in the article title only.\n",
        "       'from=2020-05-30&'#from date\n",
        "       'to=2020-06-01&'#to date\n",
        "       'domains=bbc.co.uk&'#domains that we want\n",
        "       'language=en&'#choose your language\n",
        "       'sortBy=popularity&'#if we want to sort by popularity,relevancy or publishedAt\n",
        "       'pageSize=30&' #if we want the number of articles default is 20 and maximum is 100\n",
        "       'apiKey=4ac92a95346643fdbdb26a7e4d0e98b1') #this is compulsory\n",
        "\n",
        "#create request to get news article from newsapi\n",
        "response = requests.get(url)"
      ],
      "execution_count": 0,
      "outputs": []
    },
    {
      "cell_type": "code",
      "metadata": {
        "id": "PVWTLv44CBZK",
        "colab_type": "code",
        "outputId": "2c5112c2-43e6-449d-f107-449ddba3f888",
        "colab": {
          "base_uri": "https://localhost:8080/",
          "height": 34
        }
      },
      "source": [
        "#test the connection\n",
        "response"
      ],
      "execution_count": 0,
      "outputs": [
        {
          "output_type": "execute_result",
          "data": {
            "text/plain": [
              "<Response [200]>"
            ]
          },
          "metadata": {
            "tags": []
          },
          "execution_count": 129
        }
      ]
    },
    {
      "cell_type": "code",
      "metadata": {
        "id": "xK_-DLnsC2Dy",
        "colab_type": "code",
        "outputId": "ea2c550a-b9d6-4a8e-f636-14e6208465eb",
        "colab": {
          "base_uri": "https://localhost:8080/",
          "height": 346
        }
      },
      "source": [
        "#create json format\n",
        "samsungheadline=response.json()\n",
        "samsungheadline"
      ],
      "execution_count": 0,
      "outputs": [
        {
          "output_type": "execute_result",
          "data": {
            "text/plain": [
              "{'articles': [{'author': 'https://www.facebook.com/bbcnews',\n",
              "   'content': 'Image copyrightGetty Images\\r\\nAmazon has blamed a \"bad actor\" for racist abuse that appeared on multiple listings on its UK website.\\r\\nThe abuse, now removed, appeared when users searched the online sh… [+1608 chars]',\n",
              "   'description': 'The online giant blames a \"bad actor\" for the language appearing alongside multiple product listings.',\n",
              "   'publishedAt': '2020-05-31T10:26:22Z',\n",
              "   'source': {'id': 'bbc-news', 'name': 'BBC News'},\n",
              "   'title': 'Amazon UK website defaced with racist abuse',\n",
              "   'url': 'https://www.bbc.co.uk/news/business-52867334',\n",
              "   'urlToImage': 'https://ichef.bbci.co.uk/news/1024/branded_news/227B/production/_102972880_amazonpackages_getty.jpg'},\n",
              "  {'author': 'https://www.facebook.com/bbcnews',\n",
              "   'content': 'Image copyrightGetty / Beyonce / TwitterImage caption\\r\\n Rihanna and Beyoncé called for justice for George Floyd, while Ariana Grande joined protests in LA\\r\\nThe music industry is calling for a \"Blacko… [+3788 chars]',\n",
              "   'description': 'Record labels say they will not release new music this week, as musicians join protests in the US.',\n",
              "   'publishedAt': '2020-06-01T09:12:07Z',\n",
              "   'source': {'id': 'bbc-news', 'name': 'BBC News'},\n",
              "   'title': \"George Floyd: Music industry calls for 'blackout' over death\",\n",
              "   'url': 'https://www.bbc.co.uk/news/entertainment-arts-52874572',\n",
              "   'urlToImage': 'https://ichef.bbci.co.uk/news/1024/branded_news/E46D/production/_112577485_musicians.jpg'}],\n",
              " 'status': 'ok',\n",
              " 'totalResults': 2}"
            ]
          },
          "metadata": {
            "tags": []
          },
          "execution_count": 130
        }
      ]
    },
    {
      "cell_type": "code",
      "metadata": {
        "id": "aNMtCfWoKnOR",
        "colab_type": "code",
        "outputId": "3c02a5c9-23a1-45ac-a18e-753cfd642048",
        "colab": {
          "base_uri": "https://localhost:8080/",
          "height": 34
        }
      },
      "source": [
        "#sort them out, we can see that they are sorted according to articles , status and total results.\n",
        "sorted(samsungheadline.keys())"
      ],
      "execution_count": 0,
      "outputs": [
        {
          "output_type": "execute_result",
          "data": {
            "text/plain": [
              "['articles', 'status', 'totalResults']"
            ]
          },
          "metadata": {
            "tags": []
          },
          "execution_count": 131
        }
      ]
    },
    {
      "cell_type": "code",
      "metadata": {
        "id": "GQhx7rTzKrd8",
        "colab_type": "code",
        "outputId": "f14f61c5-19eb-402e-8ea6-6948b0cd00fe",
        "colab": {
          "base_uri": "https://localhost:8080/",
          "height": 311
        }
      },
      "source": [
        "#we only want the articles for the keyword \n",
        "samsungheadline = samsungheadline['articles']\n",
        "samsungheadline"
      ],
      "execution_count": 0,
      "outputs": [
        {
          "output_type": "execute_result",
          "data": {
            "text/plain": [
              "[{'author': 'https://www.facebook.com/bbcnews',\n",
              "  'content': 'Image copyrightGetty Images\\r\\nAmazon has blamed a \"bad actor\" for racist abuse that appeared on multiple listings on its UK website.\\r\\nThe abuse, now removed, appeared when users searched the online sh… [+1608 chars]',\n",
              "  'description': 'The online giant blames a \"bad actor\" for the language appearing alongside multiple product listings.',\n",
              "  'publishedAt': '2020-05-31T10:26:22Z',\n",
              "  'source': {'id': 'bbc-news', 'name': 'BBC News'},\n",
              "  'title': 'Amazon UK website defaced with racist abuse',\n",
              "  'url': 'https://www.bbc.co.uk/news/business-52867334',\n",
              "  'urlToImage': 'https://ichef.bbci.co.uk/news/1024/branded_news/227B/production/_102972880_amazonpackages_getty.jpg'},\n",
              " {'author': 'https://www.facebook.com/bbcnews',\n",
              "  'content': 'Image copyrightGetty / Beyonce / TwitterImage caption\\r\\n Rihanna and Beyoncé called for justice for George Floyd, while Ariana Grande joined protests in LA\\r\\nThe music industry is calling for a \"Blacko… [+3788 chars]',\n",
              "  'description': 'Record labels say they will not release new music this week, as musicians join protests in the US.',\n",
              "  'publishedAt': '2020-06-01T09:12:07Z',\n",
              "  'source': {'id': 'bbc-news', 'name': 'BBC News'},\n",
              "  'title': \"George Floyd: Music industry calls for 'blackout' over death\",\n",
              "  'url': 'https://www.bbc.co.uk/news/entertainment-arts-52874572',\n",
              "  'urlToImage': 'https://ichef.bbci.co.uk/news/1024/branded_news/E46D/production/_112577485_musicians.jpg'}]"
            ]
          },
          "metadata": {
            "tags": []
          },
          "execution_count": 132
        }
      ]
    },
    {
      "cell_type": "code",
      "metadata": {
        "id": "7cSxoomIDtZa",
        "colab_type": "code",
        "outputId": "fbf065c9-88a6-4702-8e24-82de4adf5b00",
        "colab": {
          "base_uri": "https://localhost:8080/",
          "height": 319
        }
      },
      "source": [
        "#convert to dataframe first\n",
        "df =  pd.DataFrame(samsungheadline)\n",
        "df"
      ],
      "execution_count": 0,
      "outputs": [
        {
          "output_type": "execute_result",
          "data": {
            "text/html": [
              "<div>\n",
              "<style scoped>\n",
              "    .dataframe tbody tr th:only-of-type {\n",
              "        vertical-align: middle;\n",
              "    }\n",
              "\n",
              "    .dataframe tbody tr th {\n",
              "        vertical-align: top;\n",
              "    }\n",
              "\n",
              "    .dataframe thead th {\n",
              "        text-align: right;\n",
              "    }\n",
              "</style>\n",
              "<table border=\"1\" class=\"dataframe\">\n",
              "  <thead>\n",
              "    <tr style=\"text-align: right;\">\n",
              "      <th></th>\n",
              "      <th>source</th>\n",
              "      <th>author</th>\n",
              "      <th>title</th>\n",
              "      <th>description</th>\n",
              "      <th>url</th>\n",
              "      <th>urlToImage</th>\n",
              "      <th>publishedAt</th>\n",
              "      <th>content</th>\n",
              "    </tr>\n",
              "  </thead>\n",
              "  <tbody>\n",
              "    <tr>\n",
              "      <th>0</th>\n",
              "      <td>{'id': 'bbc-news', 'name': 'BBC News'}</td>\n",
              "      <td>https://www.facebook.com/bbcnews</td>\n",
              "      <td>Amazon UK website defaced with racist abuse</td>\n",
              "      <td>The online giant blames a \"bad actor\" for the ...</td>\n",
              "      <td>https://www.bbc.co.uk/news/business-52867334</td>\n",
              "      <td>https://ichef.bbci.co.uk/news/1024/branded_new...</td>\n",
              "      <td>2020-05-31T10:26:22Z</td>\n",
              "      <td>Image copyrightGetty Images\\r\\nAmazon has blam...</td>\n",
              "    </tr>\n",
              "    <tr>\n",
              "      <th>1</th>\n",
              "      <td>{'id': 'bbc-news', 'name': 'BBC News'}</td>\n",
              "      <td>https://www.facebook.com/bbcnews</td>\n",
              "      <td>George Floyd: Music industry calls for 'blacko...</td>\n",
              "      <td>Record labels say they will not release new mu...</td>\n",
              "      <td>https://www.bbc.co.uk/news/entertainment-arts-...</td>\n",
              "      <td>https://ichef.bbci.co.uk/news/1024/branded_new...</td>\n",
              "      <td>2020-06-01T09:12:07Z</td>\n",
              "      <td>Image copyrightGetty / Beyonce / TwitterImage ...</td>\n",
              "    </tr>\n",
              "  </tbody>\n",
              "</table>\n",
              "</div>"
            ],
            "text/plain": [
              "                                   source  ...                                            content\n",
              "0  {'id': 'bbc-news', 'name': 'BBC News'}  ...  Image copyrightGetty Images\\r\\nAmazon has blam...\n",
              "1  {'id': 'bbc-news', 'name': 'BBC News'}  ...  Image copyrightGetty / Beyonce / TwitterImage ...\n",
              "\n",
              "[2 rows x 8 columns]"
            ]
          },
          "metadata": {
            "tags": []
          },
          "execution_count": 133
        }
      ]
    },
    {
      "cell_type": "markdown",
      "metadata": {
        "id": "Dc4Pxy9YH14d",
        "colab_type": "text"
      },
      "source": [
        "# **Top headlines /v2/top-headlines**"
      ]
    },
    {
      "cell_type": "markdown",
      "metadata": {
        "id": "sPhY6P8DM2il",
        "colab_type": "text"
      },
      "source": [
        "## What if we want top headlines for a country, specific category in a country single source or multiple sources , or for a keyword ?"
      ]
    },
    {
      "cell_type": "code",
      "metadata": {
        "id": "XtSOShY4MzXq",
        "colab_type": "code",
        "colab": {}
      },
      "source": [
        "#we create URL for top category news headlines for country\n",
        "catenewsheadlinesurl = ('http://newsapi.org/v2/top-headlines?'\n",
        "       'q=trump&' #the keyword we are looking for\n",
        "       'country=us&' #we  chose the country we want\n",
        "       'category=general&' #we chose the category we wants\n",
        "       'language=en&'\n",
        "       'pageSize=30&' #this is the number of results to return per page(request).20 is default . max is 100\n",
        "       'apiKey=4ac92a95346643fdbdb26a7e4d0e98b1') # api keys\n",
        "#we create the request to get the news headlines.\n",
        "catenewsheadlinesurlresponse = requests.get(catenewsheadlinesurl)"
      ],
      "execution_count": 0,
      "outputs": []
    },
    {
      "cell_type": "code",
      "metadata": {
        "id": "wlRSfRncNKb4",
        "colab_type": "code",
        "outputId": "031393bc-9aad-4e9d-bdbc-9f289d08ae8f",
        "colab": {
          "base_uri": "https://localhost:8080/",
          "height": 34
        }
      },
      "source": [
        "#test the connection if 200 means connection is ready\n",
        "catenewsheadlinesurlresponse"
      ],
      "execution_count": 0,
      "outputs": [
        {
          "output_type": "execute_result",
          "data": {
            "text/plain": [
              "<Response [200]>"
            ]
          },
          "metadata": {
            "tags": []
          },
          "execution_count": 186
        }
      ]
    },
    {
      "cell_type": "code",
      "metadata": {
        "id": "3dXKt2qhNiCO",
        "colab_type": "code",
        "outputId": "8b53745c-72b0-4ffd-950f-0bb8c39aedf9",
        "colab": {
          "base_uri": "https://localhost:8080/",
          "height": 894
        }
      },
      "source": [
        "#convert the headlines to json format\n",
        "catenewsheadlines=catenewsheadlinesurlresponse.json()\n",
        "catenewsheadlines"
      ],
      "execution_count": 0,
      "outputs": [
        {
          "output_type": "execute_result",
          "data": {
            "text/plain": [
              "{'articles': [{'author': 'Tom Gjelten',\n",
              "   'content': \"Police gather to remove demonstrators from the area around Lafayette Park and the White House before President Trump's walk to St. John's Church.\\r\\nAlex Brandon/AP\\r\\nThe plaza between St. John's Church… [+3942 chars]\",\n",
              "   'description': \"After U.S. Park Police and National Guard troops pushed demonstrators out of Lafayette Park, President Trump walked from the White House to St. John's Church where he posed for pictures with a Bible.\",\n",
              "   'publishedAt': '2020-06-02T08:14:32Z',\n",
              "   'source': {'id': None, 'name': 'NPR'},\n",
              "   'title': 'Park Police Tear Gas Peaceful Protesters To Clear Way For Trump Church Photo-Op - NPR',\n",
              "   'url': 'https://www.npr.org/2020/06/01/867532070/trumps-unannounced-church-visit-angers-church-officials',\n",
              "   'urlToImage': 'https://media.npr.org/assets/img/2020/06/01/ap_201538622364011_wide-b070944736fe027bbb81b95cc5c728d4bc879d39.jpg?s=1400'},\n",
              "  {'author': 'Michael M. Grynbaum',\n",
              "   'content': 'As Mr. Carlson spoke on Fox News, Mr. Trump also faced criticism of a very different sort on CNN.\\r\\nThe anchor Anderson Cooper, clearly taken aback by Mr. Trumps militaristic words on Monday, called M… [+1562 chars]',\n",
              "   'description': 'In a sign of partisan divide, his monologue came as Anderson Cooper of CNN criticized Mr. Trump for calling protesters “thugs.”',\n",
              "   'publishedAt': '2020-06-02T04:42:47Z',\n",
              "   'source': {'id': None, 'name': 'New York Times'},\n",
              "   'title': 'Tucker Carlson, Anderson Cooper Deliver Starkly Different Messages - The New York Times',\n",
              "   'url': 'https://www.nytimes.com/2020/06/01/business/media/unrest-trump-tucker-carlson-anderson-cooper.html',\n",
              "   'urlToImage': 'https://static01.nyt.com/images/2020/06/01/us/politics/01unrest-media1/01unrest-media1-facebookJumbo.jpg'},\n",
              "  {'author': \"Investor's Business Daily\",\n",
              "   'content': \"Dow Jones futures were squarely lower late Monday, along with S&amp;P 500 futures and Nasdaq futures, after President Trump's comments, as civil unrest continued. Monday's breakout stock Tesla headli… [+8796 chars]\",\n",
              "   'description': \"The Dow Jones futures were squarely lower late Monday on President Trump's comments. Tech giants Apple, Netflix and Tesla are in new buy zones.\",\n",
              "   'publishedAt': '2020-06-02T04:21:10Z',\n",
              "   'source': {'id': None, 'name': \"Investor's Business Daily\"},\n",
              "   'title': \"Dow Jones Futures Slide On Trump Comments, As Civil Unrest Continues; 3 Tech Giants In New Buy Zones - Investor's Business Daily\",\n",
              "   'url': 'https://www.investors.com/market-trend/stock-market-today/dow-jones-futures-apple-netflix-tesla-new-buy-coronavirus-stock-market-rally/',\n",
              "   'urlToImage': 'https://www.investors.com/wp-content/uploads/2020/06/Stock-TeslaCyberTruck-06-adobe.jpg'},\n",
              "  {'author': None,\n",
              "   'content': 'President Donald Trump said on Monday he was deploying thousands of heavily armed soldiers and law enforcement to halt violence in the U.S. capital and vowed to do the same in other cities if mayors … [+485 chars]',\n",
              "   'description': 'President Donald Trump said on Monday he was deploying thousands of heavily armed soldiers and law enforcement to halt violence in the U.S. capital and vowed...',\n",
              "   'publishedAt': '2020-06-02T03:59:19Z',\n",
              "   'source': {'id': None, 'name': 'YouTube'},\n",
              "   'title': 'Trump vows to send troops into cities if needed to quell protest violence - Reuters',\n",
              "   'url': 'https://www.youtube.com/watch?v=Vij8hnFsOxs',\n",
              "   'urlToImage': 'https://i.ytimg.com/vi/Vij8hnFsOxs/maxresdefault.jpg'},\n",
              "  {'author': 'Sam Levin',\n",
              "   'content': 'US president Donald Trump has threatened to deploy\\xa0the United States military to American cities to quell civil unrest in the wake of George Floyds death.\\r\\nSpeaking\\xa0in the White Houses Rose Garden as… [+2074 chars]',\n",
              "   'description': 'Outcome seems to hang on the interpretation of the 1807 Insurrection Act, which allows the use of active-duty troops for law enforcement',\n",
              "   'publishedAt': '2020-06-02T02:51:00Z',\n",
              "   'source': {'id': None, 'name': 'The Guardian'},\n",
              "   'title': 'George Floyd protests: can Trump deploy federal troops on to the streets in the US? - The Guardian',\n",
              "   'url': 'https://www.theguardian.com/us-news/2020/jun/02/george-floyd-protests-can-trump-deploy-federal-troops-onto-the-streets-in-the-us',\n",
              "   'urlToImage': 'https://i.guim.co.uk/img/media/6e24eabed484dd9cb4961377ca3c1bc909799aec/0_0_2733_1640/master/2733.jpg?width=1200&height=630&quality=85&auto=format&fit=crop&overlay-align=bottom%2Cleft&overlay-width=100p&overlay-base64=L2ltZy9zdGF0aWMvb3ZlcmxheXMvdGctZGVmYXVsdC5wbmc&enable=upscale&s=cab17a8e3f5b78fbf6f7c990dc61a10a'},\n",
              "  {'author': 'Des Bieler',\n",
              "   'content': 'What Popovich appeared to find particularly galling, as he made clear in comments published Monday by the Nation, was Trumps refusal to even go through the motions of trying to soothe the country aft… [+4370 chars]',\n",
              "   'description': 'The San Antonio Spurs coach has been sharply critical of Trump in the past, but he offered arguably his most unsparing language as protests have roiled the country.',\n",
              "   'publishedAt': '2020-06-02T00:01:43Z',\n",
              "   'source': {'id': 'the-washington-post', 'name': 'The Washington Post'},\n",
              "   'title': 'Gregg Popovich calls Trump a ‘deranged idiot,’ criticizes his lack of leadership - The Washington Post',\n",
              "   'url': 'https://www.washingtonpost.com/sports/2020/06/01/gregg-popovich-calls-trump-deranged-idiot-criticizes-his-lack-leadership/',\n",
              "   'urlToImage': 'https://www.washingtonpost.com/wp-apps/imrs.php?src=https://arc-anglerfish-washpost-prod-washpost.s3.amazonaws.com/public/EGLZBSBCYFE6VGMLGLBKHQLXJA&w=1440'}],\n",
              " 'status': 'ok',\n",
              " 'totalResults': 6}"
            ]
          },
          "metadata": {
            "tags": []
          },
          "execution_count": 187
        }
      ]
    },
    {
      "cell_type": "code",
      "metadata": {
        "id": "A57u3BytPnS2",
        "colab_type": "code",
        "outputId": "a23569c1-244d-4a1f-96c4-374099131ee9",
        "colab": {
          "base_uri": "https://localhost:8080/",
          "height": 34
        }
      },
      "source": [
        "#let sort them according to category\n",
        "sorted(catenewsheadlines.keys())"
      ],
      "execution_count": 0,
      "outputs": [
        {
          "output_type": "execute_result",
          "data": {
            "text/plain": [
              "['articles', 'status', 'totalResults']"
            ]
          },
          "metadata": {
            "tags": []
          },
          "execution_count": 188
        }
      ]
    },
    {
      "cell_type": "code",
      "metadata": {
        "id": "6U4rXAy7PrII",
        "colab_type": "code",
        "colab": {}
      },
      "source": [
        "#we only wants articles\n",
        "catenewsheadlines = catenewsheadlines['articles']"
      ],
      "execution_count": 0,
      "outputs": []
    },
    {
      "cell_type": "code",
      "metadata": {
        "id": "sTH7_f5EOEmo",
        "colab_type": "code",
        "outputId": "8b413642-5472-4fec-9cc3-7914b63ffb2d",
        "colab": {
          "base_uri": "https://localhost:8080/",
          "height": 634
        }
      },
      "source": [
        "#convert to dataframe first\n",
        "df2 =  pd.DataFrame(catenewsheadlines)\n",
        "df2.head()"
      ],
      "execution_count": 0,
      "outputs": [
        {
          "output_type": "execute_result",
          "data": {
            "text/html": [
              "<div>\n",
              "<style scoped>\n",
              "    .dataframe tbody tr th:only-of-type {\n",
              "        vertical-align: middle;\n",
              "    }\n",
              "\n",
              "    .dataframe tbody tr th {\n",
              "        vertical-align: top;\n",
              "    }\n",
              "\n",
              "    .dataframe thead th {\n",
              "        text-align: right;\n",
              "    }\n",
              "</style>\n",
              "<table border=\"1\" class=\"dataframe\">\n",
              "  <thead>\n",
              "    <tr style=\"text-align: right;\">\n",
              "      <th></th>\n",
              "      <th>source</th>\n",
              "      <th>author</th>\n",
              "      <th>title</th>\n",
              "      <th>description</th>\n",
              "      <th>url</th>\n",
              "      <th>urlToImage</th>\n",
              "      <th>publishedAt</th>\n",
              "      <th>content</th>\n",
              "    </tr>\n",
              "  </thead>\n",
              "  <tbody>\n",
              "    <tr>\n",
              "      <th>0</th>\n",
              "      <td>{'id': None, 'name': 'NPR'}</td>\n",
              "      <td>Tom Gjelten</td>\n",
              "      <td>Park Police Tear Gas Peaceful Protesters To Cl...</td>\n",
              "      <td>After U.S. Park Police and National Guard troo...</td>\n",
              "      <td>https://www.npr.org/2020/06/01/867532070/trump...</td>\n",
              "      <td>https://media.npr.org/assets/img/2020/06/01/ap...</td>\n",
              "      <td>2020-06-02T08:14:32Z</td>\n",
              "      <td>Police gather to remove demonstrators from the...</td>\n",
              "    </tr>\n",
              "    <tr>\n",
              "      <th>1</th>\n",
              "      <td>{'id': None, 'name': 'New York Times'}</td>\n",
              "      <td>Michael M. Grynbaum</td>\n",
              "      <td>Tucker Carlson, Anderson Cooper Deliver Starkl...</td>\n",
              "      <td>In a sign of partisan divide, his monologue ca...</td>\n",
              "      <td>https://www.nytimes.com/2020/06/01/business/me...</td>\n",
              "      <td>https://static01.nyt.com/images/2020/06/01/us/...</td>\n",
              "      <td>2020-06-02T04:42:47Z</td>\n",
              "      <td>As Mr. Carlson spoke on Fox News, Mr. Trump al...</td>\n",
              "    </tr>\n",
              "    <tr>\n",
              "      <th>2</th>\n",
              "      <td>{'id': None, 'name': 'Investor's Business Daily'}</td>\n",
              "      <td>Investor's Business Daily</td>\n",
              "      <td>Dow Jones Futures Slide On Trump Comments, As ...</td>\n",
              "      <td>The Dow Jones futures were squarely lower late...</td>\n",
              "      <td>https://www.investors.com/market-trend/stock-m...</td>\n",
              "      <td>https://www.investors.com/wp-content/uploads/2...</td>\n",
              "      <td>2020-06-02T04:21:10Z</td>\n",
              "      <td>Dow Jones futures were squarely lower late Mon...</td>\n",
              "    </tr>\n",
              "    <tr>\n",
              "      <th>3</th>\n",
              "      <td>{'id': None, 'name': 'YouTube'}</td>\n",
              "      <td>None</td>\n",
              "      <td>Trump vows to send troops into cities if neede...</td>\n",
              "      <td>President Donald Trump said on Monday he was d...</td>\n",
              "      <td>https://www.youtube.com/watch?v=Vij8hnFsOxs</td>\n",
              "      <td>https://i.ytimg.com/vi/Vij8hnFsOxs/maxresdefau...</td>\n",
              "      <td>2020-06-02T03:59:19Z</td>\n",
              "      <td>President Donald Trump said on Monday he was d...</td>\n",
              "    </tr>\n",
              "    <tr>\n",
              "      <th>4</th>\n",
              "      <td>{'id': None, 'name': 'The Guardian'}</td>\n",
              "      <td>Sam Levin</td>\n",
              "      <td>George Floyd protests: can Trump deploy federa...</td>\n",
              "      <td>Outcome seems to hang on the interpretation of...</td>\n",
              "      <td>https://www.theguardian.com/us-news/2020/jun/0...</td>\n",
              "      <td>https://i.guim.co.uk/img/media/6e24eabed484dd9...</td>\n",
              "      <td>2020-06-02T02:51:00Z</td>\n",
              "      <td>US president Donald Trump has threatened to de...</td>\n",
              "    </tr>\n",
              "  </tbody>\n",
              "</table>\n",
              "</div>"
            ],
            "text/plain": [
              "                                              source  ...                                            content\n",
              "0                        {'id': None, 'name': 'NPR'}  ...  Police gather to remove demonstrators from the...\n",
              "1             {'id': None, 'name': 'New York Times'}  ...  As Mr. Carlson spoke on Fox News, Mr. Trump al...\n",
              "2  {'id': None, 'name': 'Investor's Business Daily'}  ...  Dow Jones futures were squarely lower late Mon...\n",
              "3                    {'id': None, 'name': 'YouTube'}  ...  President Donald Trump said on Monday he was d...\n",
              "4               {'id': None, 'name': 'The Guardian'}  ...  US president Donald Trump has threatened to de...\n",
              "\n",
              "[5 rows x 8 columns]"
            ]
          },
          "metadata": {
            "tags": []
          },
          "execution_count": 190
        }
      ]
    },
    {
      "cell_type": "markdown",
      "metadata": {
        "id": "ci60XNG8aJwR",
        "colab_type": "text"
      },
      "source": [
        "#**Sources /v2/sources**\n",
        "This endpoint returns the subset of news publishers that top headlines (/v2/top-headlines) are available from. It's mainly a convenience endpoint that you can use to keep track of the publishers available on the API, and you can pipe it straight through to your users."
      ]
    },
    {
      "cell_type": "code",
      "metadata": {
        "id": "I3V_MPmfaKYO",
        "colab_type": "code",
        "colab": {}
      },
      "source": [
        "#we create URL for top category news headlines for country\n",
        "sourcesurl = ('http://newsapi.org/v2/sources?'\n",
        "       'category=technology&' #we chose the category we wants\n",
        "       'language=en&'#this is the language \n",
        "       'country=us&' #we  chose the country we want\n",
        "       'apiKey=4ac92a95346643fdbdb26a7e4d0e98b1') # api keys\n",
        "#we create the request to get the news headlines.\n",
        "sourcesurlresponse = requests.get(sourcesurl)"
      ],
      "execution_count": 0,
      "outputs": []
    },
    {
      "cell_type": "code",
      "metadata": {
        "id": "JNBQP-NqPlyA",
        "colab_type": "code",
        "outputId": "b0f6be24-ab50-44fd-e506-834b0427e4e2",
        "colab": {
          "base_uri": "https://localhost:8080/",
          "height": 34
        }
      },
      "source": [
        "#test the connection if 200 means connection is ready\n",
        "sourcesurlresponse"
      ],
      "execution_count": 0,
      "outputs": [
        {
          "output_type": "execute_result",
          "data": {
            "text/plain": [
              "<Response [200]>"
            ]
          },
          "metadata": {
            "tags": []
          },
          "execution_count": 165
        }
      ]
    },
    {
      "cell_type": "code",
      "metadata": {
        "id": "zmsM1iKdPsrz",
        "colab_type": "code",
        "outputId": "84fc8571-9bc0-4b58-bef7-8d8654377b60",
        "colab": {
          "base_uri": "https://localhost:8080/",
          "height": 1000
        }
      },
      "source": [
        "#convert the headlines to json format\n",
        "sourcesheadlines=sourcesurlresponse.json()\n",
        "sourcesheadlines"
      ],
      "execution_count": 0,
      "outputs": [
        {
          "output_type": "execute_result",
          "data": {
            "text/plain": [
              "{'sources': [{'category': 'technology',\n",
              "   'country': 'us',\n",
              "   'description': \"The PC enthusiast's resource. Power users and the tools they love, without computing religion.\",\n",
              "   'id': 'ars-technica',\n",
              "   'language': 'en',\n",
              "   'name': 'Ars Technica',\n",
              "   'url': 'http://arstechnica.com'},\n",
              "  {'category': 'technology',\n",
              "   'country': 'us',\n",
              "   'description': 'Providing breaking cryptocurrency news - focusing on Bitcoin, Ethereum, ICOs, blockchain technology, and smart contracts.',\n",
              "   'id': 'crypto-coins-news',\n",
              "   'language': 'en',\n",
              "   'name': 'Crypto Coins News',\n",
              "   'url': 'https://www.ccn.com'},\n",
              "  {'category': 'technology',\n",
              "   'country': 'us',\n",
              "   'description': 'Engadget is a web magazine with obsessive daily coverage of everything new in gadgets and consumer electronics.',\n",
              "   'id': 'engadget',\n",
              "   'language': 'en',\n",
              "   'name': 'Engadget',\n",
              "   'url': 'https://www.engadget.com'},\n",
              "  {'category': 'technology',\n",
              "   'country': 'us',\n",
              "   'description': 'Hacker News is a social news website focusing on computer science and entrepreneurship. It is run by Paul Graham\\'s investment fund and startup incubator, Y Combinator. In general, content that can be submitted is defined as \"anything that gratifies one\\'s intellectual curiosity\".',\n",
              "   'id': 'hacker-news',\n",
              "   'language': 'en',\n",
              "   'name': 'Hacker News',\n",
              "   'url': 'https://news.ycombinator.com'},\n",
              "  {'category': 'technology',\n",
              "   'country': 'us',\n",
              "   'description': 'Get the latest independent tech news, reviews and analysis from Recode with the most informed and respected journalists in technology and media.',\n",
              "   'id': 'recode',\n",
              "   'language': 'en',\n",
              "   'name': 'Recode',\n",
              "   'url': 'http://www.recode.net'},\n",
              "  {'category': 'technology',\n",
              "   'country': 'us',\n",
              "   'description': 'TechCrunch is a leading technology media property, dedicated to obsessively profiling startups, reviewing new Internet products, and breaking tech news.',\n",
              "   'id': 'techcrunch',\n",
              "   'language': 'en',\n",
              "   'name': 'TechCrunch',\n",
              "   'url': 'https://techcrunch.com'},\n",
              "  {'category': 'technology',\n",
              "   'country': 'us',\n",
              "   'description': 'The latest technology news and reviews, covering computing, home entertainment systems, gadgets and more.',\n",
              "   'id': 'techradar',\n",
              "   'language': 'en',\n",
              "   'name': 'TechRadar',\n",
              "   'url': 'http://www.techradar.com'},\n",
              "  {'category': 'technology',\n",
              "   'country': 'us',\n",
              "   'description': 'The Next Web is one of the world’s largest online publications that delivers an international perspective on the latest news about Internet technology, business and culture.',\n",
              "   'id': 'the-next-web',\n",
              "   'language': 'en',\n",
              "   'name': 'The Next Web',\n",
              "   'url': 'http://thenextweb.com'},\n",
              "  {'category': 'technology',\n",
              "   'country': 'us',\n",
              "   'description': 'The Verge covers the intersection of technology, science, art, and culture.',\n",
              "   'id': 'the-verge',\n",
              "   'language': 'en',\n",
              "   'name': 'The Verge',\n",
              "   'url': 'http://www.theverge.com'},\n",
              "  {'category': 'technology',\n",
              "   'country': 'us',\n",
              "   'description': 'Wired is a monthly American magazine, published in print and online editions, that focuses on how emerging technologies affect culture, the economy, and politics.',\n",
              "   'id': 'wired',\n",
              "   'language': 'en',\n",
              "   'name': 'Wired',\n",
              "   'url': 'https://www.wired.com'}],\n",
              " 'status': 'ok'}"
            ]
          },
          "metadata": {
            "tags": []
          },
          "execution_count": 166
        }
      ]
    },
    {
      "cell_type": "code",
      "metadata": {
        "id": "uSzUusMyP3ed",
        "colab_type": "code",
        "outputId": "d2fd8815-2edf-4aca-bf55-811977fae0a3",
        "colab": {
          "base_uri": "https://localhost:8080/",
          "height": 34
        }
      },
      "source": [
        "#let sort them according to category\n",
        "sorted(sourcesheadlines.keys())"
      ],
      "execution_count": 0,
      "outputs": [
        {
          "output_type": "execute_result",
          "data": {
            "text/plain": [
              "['sources', 'status']"
            ]
          },
          "metadata": {
            "tags": []
          },
          "execution_count": 167
        }
      ]
    },
    {
      "cell_type": "code",
      "metadata": {
        "id": "sFNwCCjuP_-_",
        "colab_type": "code",
        "colab": {}
      },
      "source": [
        "#we only wants articles\n",
        "sourcesheadlines = sourcesheadlines['sources']"
      ],
      "execution_count": 0,
      "outputs": []
    },
    {
      "cell_type": "code",
      "metadata": {
        "id": "nyyP4-3XQE_s",
        "colab_type": "code",
        "outputId": "636717ae-fae0-4ac5-9904-8741932f6338",
        "colab": {
          "base_uri": "https://localhost:8080/",
          "height": 288
        }
      },
      "source": [
        "#convert to dataframe first\n",
        "df3 =  pd.DataFrame(sourcesheadlines)\n",
        "df3.head()"
      ],
      "execution_count": 0,
      "outputs": [
        {
          "output_type": "execute_result",
          "data": {
            "text/html": [
              "<div>\n",
              "<style scoped>\n",
              "    .dataframe tbody tr th:only-of-type {\n",
              "        vertical-align: middle;\n",
              "    }\n",
              "\n",
              "    .dataframe tbody tr th {\n",
              "        vertical-align: top;\n",
              "    }\n",
              "\n",
              "    .dataframe thead th {\n",
              "        text-align: right;\n",
              "    }\n",
              "</style>\n",
              "<table border=\"1\" class=\"dataframe\">\n",
              "  <thead>\n",
              "    <tr style=\"text-align: right;\">\n",
              "      <th></th>\n",
              "      <th>id</th>\n",
              "      <th>name</th>\n",
              "      <th>description</th>\n",
              "      <th>url</th>\n",
              "      <th>category</th>\n",
              "      <th>language</th>\n",
              "      <th>country</th>\n",
              "    </tr>\n",
              "  </thead>\n",
              "  <tbody>\n",
              "    <tr>\n",
              "      <th>0</th>\n",
              "      <td>ars-technica</td>\n",
              "      <td>Ars Technica</td>\n",
              "      <td>The PC enthusiast's resource. Power users and ...</td>\n",
              "      <td>http://arstechnica.com</td>\n",
              "      <td>technology</td>\n",
              "      <td>en</td>\n",
              "      <td>us</td>\n",
              "    </tr>\n",
              "    <tr>\n",
              "      <th>1</th>\n",
              "      <td>crypto-coins-news</td>\n",
              "      <td>Crypto Coins News</td>\n",
              "      <td>Providing breaking cryptocurrency news - focus...</td>\n",
              "      <td>https://www.ccn.com</td>\n",
              "      <td>technology</td>\n",
              "      <td>en</td>\n",
              "      <td>us</td>\n",
              "    </tr>\n",
              "    <tr>\n",
              "      <th>2</th>\n",
              "      <td>engadget</td>\n",
              "      <td>Engadget</td>\n",
              "      <td>Engadget is a web magazine with obsessive dail...</td>\n",
              "      <td>https://www.engadget.com</td>\n",
              "      <td>technology</td>\n",
              "      <td>en</td>\n",
              "      <td>us</td>\n",
              "    </tr>\n",
              "    <tr>\n",
              "      <th>3</th>\n",
              "      <td>hacker-news</td>\n",
              "      <td>Hacker News</td>\n",
              "      <td>Hacker News is a social news website focusing ...</td>\n",
              "      <td>https://news.ycombinator.com</td>\n",
              "      <td>technology</td>\n",
              "      <td>en</td>\n",
              "      <td>us</td>\n",
              "    </tr>\n",
              "    <tr>\n",
              "      <th>4</th>\n",
              "      <td>recode</td>\n",
              "      <td>Recode</td>\n",
              "      <td>Get the latest independent tech news, reviews ...</td>\n",
              "      <td>http://www.recode.net</td>\n",
              "      <td>technology</td>\n",
              "      <td>en</td>\n",
              "      <td>us</td>\n",
              "    </tr>\n",
              "  </tbody>\n",
              "</table>\n",
              "</div>"
            ],
            "text/plain": [
              "                  id               name  ... language country\n",
              "0       ars-technica       Ars Technica  ...       en      us\n",
              "1  crypto-coins-news  Crypto Coins News  ...       en      us\n",
              "2           engadget           Engadget  ...       en      us\n",
              "3        hacker-news        Hacker News  ...       en      us\n",
              "4             recode             Recode  ...       en      us\n",
              "\n",
              "[5 rows x 7 columns]"
            ]
          },
          "metadata": {
            "tags": []
          },
          "execution_count": 169
        }
      ]
    },
    {
      "cell_type": "code",
      "metadata": {
        "id": "ScZPCo5dQISQ",
        "colab_type": "code",
        "colab": {}
      },
      "source": [
        ""
      ],
      "execution_count": 0,
      "outputs": []
    }
  ]
}